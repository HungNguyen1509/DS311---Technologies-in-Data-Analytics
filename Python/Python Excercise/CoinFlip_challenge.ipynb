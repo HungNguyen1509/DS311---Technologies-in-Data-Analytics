{
 "cells": [
  {
   "cell_type": "markdown",
   "id": "03e18c15",
   "metadata": {},
   "source": [
    "## Coin_flip challenge"
   ]
  },
  {
   "cell_type": "code",
   "execution_count": 4,
   "id": "fccf2e51",
   "metadata": {},
   "outputs": [],
   "source": [
    "import random\n",
    "import numpy as np"
   ]
  },
  {
   "cell_type": "markdown",
   "id": "2aeb341c",
   "metadata": {},
   "source": [
    "#### simulate a coin flip()\n",
    "    Returns:\n",
    "    str: [\"heads\" or \"tails\"]"
   ]
  },
  {
   "cell_type": "code",
   "execution_count": 5,
   "id": "6a8b5356",
   "metadata": {},
   "outputs": [],
   "source": [
    "def coin():\n",
    "    x=random.choice([\"Head\",\"Tail\"])\n",
    "    return x"
   ]
  },
  {
   "cell_type": "markdown",
   "id": "d0f3a5b9",
   "metadata": {},
   "source": [
    "#### Simulate 10 coin flips\n",
    "    Returns:\n",
    "    [list or string]: [lst should contains heads or tails]"
   ]
  },
  {
   "cell_type": "code",
   "execution_count": 6,
   "id": "8ade2965",
   "metadata": {},
   "outputs": [],
   "source": [
    "def coin_10flips_1(probability):\n",
    "    x=[]\n",
    "    for i in range (len(probability)):\n",
    "        if probability[i] >=0.5:\n",
    "            x.append(\"Head\")\n",
    "        else:\n",
    "            x.append(\"Tail\")\n",
    "    return x"
   ]
  },
  {
   "cell_type": "markdown",
   "id": "d244f6ec",
   "metadata": {},
   "source": [
    "#### Simulate 10 coin flips\n",
    "[The second way to flip a coin for 10 times]"
   ]
  },
  {
   "cell_type": "code",
   "execution_count": 7,
   "id": "cb5e45c8",
   "metadata": {},
   "outputs": [],
   "source": [
    "def coin_10flips_2(numberoftrial):\n",
    "    x=str()\n",
    "    for i in range(1,numberoftrial):\n",
    "       x+=str(coin()+\", \")\n",
    "    return x"
   ]
  },
  {
   "cell_type": "markdown",
   "id": "31b53e30",
   "metadata": {},
   "source": [
    "#### Count number of head\n",
    "    Count how many times the coin is HEAD and how many times the coin is TAIL\n",
    "    Args:\n",
    "        n (int): Number of times the coin is going to flipped\n",
    "    Returns:\n",
    "        Tuple : (heads, tails)"
   ]
  },
  {
   "cell_type": "code",
   "execution_count": 8,
   "id": "294a39ae",
   "metadata": {},
   "outputs": [],
   "source": [
    "def count_head(n):\n",
    "    number_head=0\n",
    "    number_tail=0\n",
    "    checking=coin_10flips_1(np.random.uniform(low=0,high=1,size =n))\n",
    "    for i in range (n):\n",
    "        if checking[i]==\"Head\":\n",
    "            number_head=number_head+1\n",
    "        else:\n",
    "            number_tail=number_tail+1\n",
    "    print(f\"number of Head is {number_head}\",f\"number of Tail is {number_tail}\")\n",
    "    return (number_head,number_tail)"
   ]
  },
  {
   "cell_type": "markdown",
   "id": "f0b01376",
   "metadata": {},
   "source": [
    "#### Tenhead\n",
    "    This function counts how many times you have flipped and tells you how many times the results has 10 heads, and how many tails correspondingly."
   ]
  },
  {
   "cell_type": "code",
   "execution_count": 9,
   "id": "2dab8169",
   "metadata": {},
   "outputs": [],
   "source": [
    "def tenhead():\n",
    "    count=0\n",
    "    heads=0\n",
    "    tails=0\n",
    "    while heads<10:\n",
    "        testing=coin()\n",
    "        if testing==\"Head\":\n",
    "            heads=heads+1\n",
    "            count=count+1\n",
    "        else:\n",
    "            tails=tails+1\n",
    "            count=count+1\n",
    "    print(f\"We have to flip a coin {count} times to get 10 head\")\n",
    "    return (count,heads,tails)"
   ]
  },
  {
   "cell_type": "markdown",
   "id": "b2e411d7",
   "metadata": {},
   "source": [
    "#### Hot head streak \n",
    "    To get N streaks of head in a row.\n",
    "    How many tiems I need to flip this coin\n",
    "    Args:\n",
    "        n (int): Number of streaks\n",
    "    Returns:\n",
    "        int: How many times you need to flip this coin"
   ]
  },
  {
   "cell_type": "code",
   "execution_count": 10,
   "id": "ffe02aff",
   "metadata": {},
   "outputs": [],
   "source": [
    "def hot_head_streak(n):\n",
    "    count=0\n",
    "    head=0\n",
    "    x=str()\n",
    "    while head < n:\n",
    "        testing=coin()\n",
    "        if testing ==\"Head\":\n",
    "            head=head+1\n",
    "            count=count+1\n",
    "            x+=str(testing+\", \")\n",
    "        else:\n",
    "            head=0\n",
    "            count=count+1\n",
    "            x+=str(testing+\", \")\n",
    "    print(x)\n",
    "    return count"
   ]
  },
  {
   "cell_type": "markdown",
   "id": "fe498645",
   "metadata": {},
   "source": [
    "#### hot streaks\n",
    "    How many times I need to flip to get N streaks of either head of tails\n",
    "    Args:\n",
    "        n (int): Number of you streaks desired\n",
    "    Returns:\n",
    "        int: How many flips"
   ]
  },
  {
   "cell_type": "code",
   "execution_count": 11,
   "id": "30566d74",
   "metadata": {},
   "outputs": [],
   "source": [
    "def hot_streak(n):\n",
    "    count=0\n",
    "    head=0\n",
    "    tail=0\n",
    "    x=str()\n",
    "    while (head < n and tail < n):\n",
    "        testing=coin()\n",
    "        if testing ==\"Head\":\n",
    "            tail=0\n",
    "            head=head+1\n",
    "            count=count+1\n",
    "            x+=str(testing+ \", \")\n",
    "        else:\n",
    "            head=0\n",
    "            count=count+1\n",
    "            tail=tail+1\n",
    "            x+=str(testing+ \", \")\n",
    "    print(x)\n",
    "    return(count)"
   ]
  },
  {
   "cell_type": "code",
   "execution_count": 13,
   "id": "1ec4b44d",
   "metadata": {},
   "outputs": [
    {
     "name": "stdout",
     "output_type": "stream",
     "text": [
      "number of Head is 49 number of Tail is 51\n",
      "We have to flip a coin 18 times to get 10 head\n",
      "Head, Head, Tail, Tail, Tail, Head, Tail, Head, Head, Head, Tail, Head, Head, Tail, Head, Tail, Head, Head, Tail, Head, Tail, Tail, Tail, Head, Head, Tail, Tail, Head, Head, Tail, Head, Head, Tail, Head, Tail, Head, Head, Head, Head, \n",
      "Head, Tail, Tail, Tail, Head, Tail, Head, Tail, Tail, Head, Tail, Tail, Tail, Head, Head, Head, Tail, Tail, Head, Head, Head, Tail, Tail, Head, Head, Head, Head, \n"
     ]
    },
    {
     "data": {
      "text/plain": [
       "27"
      ]
     },
     "execution_count": 13,
     "metadata": {},
     "output_type": "execute_result"
    }
   ],
   "source": [
    "#### Testing\n",
    "p=np.random.uniform(low=0,high=1,size =10)\n",
    "coin_10flips_1(p)\n",
    "coin_10flips_2(10)\n",
    "count_head(100)\n",
    "tenhead()\n",
    "hot_head_streak(4)\n",
    "hot_streak(4)"
   ]
  }
 ],
 "metadata": {
  "kernelspec": {
   "display_name": "Python 3 (ipykernel)",
   "language": "python",
   "name": "python3"
  },
  "language_info": {
   "codemirror_mode": {
    "name": "ipython",
    "version": 3
   },
   "file_extension": ".py",
   "mimetype": "text/x-python",
   "name": "python",
   "nbconvert_exporter": "python",
   "pygments_lexer": "ipython3",
   "version": "3.9.12"
  }
 },
 "nbformat": 4,
 "nbformat_minor": 5
}
